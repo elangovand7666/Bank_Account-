{
 "cells": [
  {
   "cell_type": "code",
   "execution_count": 1,
   "id": "2ce42443",
   "metadata": {},
   "outputs": [],
   "source": [
    "# create table for savings and fd account\n",
    "import mysql.connector as sql\n",
    "cnx=sql.connect(host=\"127.0.0.1\",user=\"root\",password=\"Elango@7666\",database=\"csd\")\n",
    "cur=cnx.cursor()\n",
    "a=\"create table savings(name char(30) NOT NULL,aadhar varchar(30) PRIMARY KEY,phone varchar(15) NOT NULL,acc_no varchar(30),amount varchar(50));\"\n",
    "cur.execute(a)\n",
    "a=\"create table deposits(name char(30) NOT NULL,aadhar varchar(30) PRIMARY KEY,phone varchar(15) NOT NULL,acc_no varchar(30),amount varchar(50));\"\n",
    "cur.execute(a)\n",
    "print(\"Tables created successfully\".center(100))\n",
    "cur.close()\n",
    "cnx.close()"
   ]
  },
  {
   "cell_type": "code",
   "execution_count": 1,
   "id": "8af3d6d5",
   "metadata": {},
   "outputs": [
    {
     "name": "stdout",
     "output_type": "stream",
     "text": [
      "open a Savings account press 1 else press 01\n",
      "Enter your name -->abisheck\n",
      "Enter your aadhar no -->735456272365\n",
      "Enter your phone number -->8110851597\n",
      "Enter your amount to deposit -->20000\n",
      "---Saving Account created successfully---\n",
      "open a Fixed deposit account press 1 else press 00\n"
     ]
    }
   ],
   "source": [
    "#opening account for savings and fd \n",
    "import mysql.connector as sql\n",
    "cnx=sql.connect(host=\"127.0.0.1\",user=\"root\",password=\"Elango@7666\",database=\"csd\")\n",
    "cur=cnx.cursor()\n",
    "class account:\n",
    "    def __init__(self):\n",
    "        self.name=\"\"\n",
    "        self.aadhar=\"\"\n",
    "        self.ph=\"\"\n",
    "        self.amount=\"\"\n",
    "    def openacc(self):\n",
    "        if(int(input(\"open a Savings account press 1 else press 0\"))==1):\n",
    "            self.name=input(\"Enter your name -->\")\n",
    "            self.aadhar=input(\"Enter your aadhar no -->\")\n",
    "            self.ph=input(\"Enter your phone number -->\")\n",
    "            self.amount=input(\"Enter your amount to deposit -->\")\n",
    "            a=\"insert into savings(name,aadhar,phone,acc_no,amount)values(%s,%s,%s,%s,%s);\"\n",
    "            t=(self.name,self.aadhar,self.ph,id(self.ph),self.amount)\n",
    "            cur.execute(a,t)\n",
    "            print(\"---Saving Account created successfully---\")\n",
    "        if(int(input(\"open a Fixed deposit account press 1 else press 0\"))==1):\n",
    "            self.name=input(\"Enter your name -->\")\n",
    "            self.aadhar=input(\"Enter your aadhar no -->\")\n",
    "            self.ph=input(\"Enter your phone number -->\")\n",
    "            y=True\n",
    "            while(y!=False):\n",
    "                self.amount=input(\"Enter your amount to F.Deposit more than 100000-->\")\n",
    "                if(int(self.amount)>=100000):\n",
    "                    y=False\n",
    "            a=\"insert into deposits(name,aadhar,phone,acc_no,amount)values(%s,%s,%s,%s,%s);\"\n",
    "            t=(self.name,self.aadhar,self.ph,id(self.ph),self.amount)\n",
    "            cur.execute(a,t)\n",
    "            print(\"---Fixed Deposit Account created successfully---\")\n",
    "aa=account()\n",
    "aa.openacc()\n",
    "cnx.commit()\n",
    "cur.close()\n",
    "cnx.close()"
   ]
  },
  {
   "cell_type": "code",
   "execution_count": 35,
   "id": "13ce74b2",
   "metadata": {},
   "outputs": [
    {
     "name": "stdout",
     "output_type": "stream",
     "text": [
      "Enter your name -->Elangovan\n",
      "Enter your Account number -->2396400061424\n",
      "Amount in your account 18800\n",
      "Enter your amount to withdraw -->200\n",
      "Available in account balance is --> '18600'\n"
     ]
    }
   ],
   "source": [
    "#withdraw amount from the savings account\n",
    "import mysql.connector as sql\n",
    "cnx=sql.connect(host=\"127.0.0.1\",user=\"root\",password=\"Elango@7666\",database=\"csd\")\n",
    "cur=cnx.cursor()\n",
    "class withdraw:\n",
    "    def __init__(self,name,acc_no):\n",
    "        self.name=name\n",
    "        self.acc_no=acc_no\n",
    "        self.amount=\"\"\n",
    "    def amountt(self):\n",
    "        k=self.acc_no\n",
    "        a=f\"select * from savings where acc_no={k};\"\n",
    "        cur.execute(a)\n",
    "        l=[]\n",
    "        for i in cur:\n",
    "            l.append(i)\n",
    "        l1=list(l[0])\n",
    "        print(f\"Amount in your account {l1[4]}\")\n",
    "        y=True\n",
    "        while(y!=False):\n",
    "            k1=input(\"Enter your amount to withdraw -->\")\n",
    "            if(int(k1)>int(l1[4])):\n",
    "                print(\"Your withdraw is not sufficient\")\n",
    "            else:\n",
    "                y=False\n",
    "                l1=list(l[0])\n",
    "                am=int(l1[4])-int(k1)\n",
    "                am=f\"'{am}'\"\n",
    "                a=f\"update savings set amount={am} where acc_no={k};\"\n",
    "                #t=(am,self.name,self.acc_no)\n",
    "                print(\"Available in account balance is -->\",am)\n",
    "                cur.execute(a)\n",
    "aa=withdraw(input(\"Enter your name -->\"),input(\"Enter your Account number -->\"))\n",
    "aa.amountt()\n",
    "cnx.commit()\n",
    "cur.close()\n",
    "cnx.close()"
   ]
  },
  {
   "cell_type": "code",
   "execution_count": 3,
   "id": "7aa08a3f",
   "metadata": {},
   "outputs": [
    {
     "name": "stdout",
     "output_type": "stream",
     "text": [
      "Enter your name -->abisheck\n",
      "Enter your Account number -->2106770702960\n",
      "Amount in your account 20000\n",
      "Enter your amount to deposits -->1800\n"
     ]
    }
   ],
   "source": [
    "#deposits amount to the savings account\n",
    "import mysql.connector as sql\n",
    "cnx=sql.connect(host=\"127.0.0.1\",user=\"root\",password=\"Elango@7666\",database=\"csd\")\n",
    "cur=cnx.cursor()\n",
    "class deposits:\n",
    "    def __init__(self,name,acc_no):\n",
    "        self.name=name\n",
    "        self.acc_no=acc_no\n",
    "    def amountt(self):\n",
    "        k=self.acc_no\n",
    "        a=f\"select * from savings where acc_no={k};\"\n",
    "        cur.execute(a)\n",
    "        l=[]\n",
    "        for i in cur:\n",
    "            l.append(i)\n",
    "        l1=list(l[0])\n",
    "        print(f\"Amount in your account {l1[4]}\")\n",
    "        y=True\n",
    "        while(y!=False):\n",
    "            y=False\n",
    "            k1=input(\"Enter your amount to deposits -->\")\n",
    "            k2=int(k1)+int(l1[4])\n",
    "            k2=f\"'{k2}'\"\n",
    "            a=f\"update savings set amount={k2} where acc_no={k};\"\n",
    "            cur.execute(a)\n",
    "aa=deposits(input(\"Enter your name -->\"),input(\"Enter your Account number -->\"))\n",
    "aa.amountt()\n",
    "cnx.commit()\n",
    "cur.close()\n",
    "cnx.close()"
   ]
  },
  {
   "cell_type": "code",
   "execution_count": 2,
   "id": "58d137df",
   "metadata": {},
   "outputs": [
    {
     "name": "stdout",
     "output_type": "stream",
     "text": [
      "Enter your name -->karthi\n",
      "Enter your account no -->1868619426032\n",
      "DAYS   RATE OF INTEREST\n",
      "[365, 8.5]\n",
      "[300, 8]\n",
      "[250, 7]\n",
      "[200, 6.7]\n",
      "[150, 6]\n",
      "[120, 5.7]\n",
      "amount in your fixed deposits is --> 2400000.0\n",
      "Enter the choice to get the interest -->1\n",
      "20400000.0\n"
     ]
    }
   ],
   "source": [
    "#rate interest adding in the fixed deposits\n",
    "import mysql.connector as sql\n",
    "cnx=sql.connect(host=\"127.0.0.1\",user=\"root\",password=\"Elango@7666\",database=\"csd\")\n",
    "cur=cnx.cursor()\n",
    "class fixed:\n",
    "    def __init__(self,name,acc):\n",
    "        self.name=name\n",
    "        self.acc=acc\n",
    "    def inte(self):\n",
    "        k=self.acc\n",
    "        print(\"DAYS   RATE OF INTEREST\")\n",
    "        l=[[365,8.5],[300,8],[250,7],[200,6.7],[150,6],[120,5.7]]\n",
    "        for i in l:\n",
    "            print(i)\n",
    "        a=f\"select * from deposits where acc_no={k};\"\n",
    "        cur.execute(a)\n",
    "        l1=[]\n",
    "        for i in cur:\n",
    "            l1.append(i)\n",
    "        l2=list(l1[0])\n",
    "        y=True\n",
    "        while(y!=False):\n",
    "            print(\"amount in your fixed deposits is -->\",l2[4])\n",
    "            k1=int(input(\"Enter the choice to get the interest -->\"))\n",
    "            kl=float(l[k1-1][1])\n",
    "            k2=kl*float(l2[4])\n",
    "            print(k2)\n",
    "            k2=f\"'{k2}'\"\n",
    "            a=f\"update deposits set amount={k2} where acc_no={k};\"\n",
    "            cur.execute(a)\n",
    "            y=False\n",
    "        \n",
    "aa=fixed(input(\"Enter your name -->\"),input(\"Enter your account no -->\"))\n",
    "aa.inte()\n",
    "cnx.commit()\n",
    "cur.close()\n",
    "cnx.close()"
   ]
  },
  {
   "cell_type": "code",
   "execution_count": 1,
   "id": "885d62c4",
   "metadata": {},
   "outputs": [
    {
     "name": "stdout",
     "output_type": "stream",
     "text": [
      "[('karthi', '364527364552', '9283625172', '1868619426032', '2400000.0'), ('Elangovan', '6910 4418 0194', '9095065666', '2782932471344', '200000')]\n"
     ]
    }
   ],
   "source": [
    "#priting the account details in deposits\n",
    "import mysql.connector as sql\n",
    "cnx=sql.connect(host=\"127.0.0.1\",user=\"root\",password=\"Elango@7666\",database=\"csd\")\n",
    "cur=cnx.cursor()\n",
    "a=\"select * from deposits;\"\n",
    "cur.execute(a)\n",
    "l=[]\n",
    "for i in cur:\n",
    "    l.append(i)\n",
    "print(l)\n",
    "cnx.commit()\n",
    "cur.close()\n",
    "cnx.close()"
   ]
  },
  {
   "cell_type": "code",
   "execution_count": 1,
   "id": "75a967a1",
   "metadata": {},
   "outputs": [
    {
     "name": "stdout",
     "output_type": "stream",
     "text": [
      "[('Elangovan', '6910 4418 0194', '9095065666', '2396400061424', '20700'), ('Shobeka', '6916356 2363653', '7826647674', '2396399755952', '50000'), ('abisheck', '735456272365', '8110851597', '2106770702960', '21800')]\n"
     ]
    }
   ],
   "source": [
    "#priting the account details in savings\n",
    "import mysql.connector as sql\n",
    "cnx=sql.connect(host=\"127.0.0.1\",user=\"root\",password=\"Elango@7666\",database=\"csd\")\n",
    "cur=cnx.cursor()\n",
    "a=\"select * from savings;\"\n",
    "cur.execute(a)\n",
    "l=[]\n",
    "for i in cur:\n",
    "    l.append(i)\n",
    "print(l)\n",
    "cnx.commit()\n",
    "cur.close()\n",
    "cnx.close()"
   ]
  },
  {
   "cell_type": "code",
   "execution_count": null,
   "id": "1f74698d",
   "metadata": {},
   "outputs": [],
   "source": []
  }
 ],
 "metadata": {
  "kernelspec": {
   "display_name": "Python 3 (ipykernel)",
   "language": "python",
   "name": "python3"
  },
  "language_info": {
   "codemirror_mode": {
    "name": "ipython",
    "version": 3
   },
   "file_extension": ".py",
   "mimetype": "text/x-python",
   "name": "python",
   "nbconvert_exporter": "python",
   "pygments_lexer": "ipython3",
   "version": "3.11.5"
  }
 },
 "nbformat": 4,
 "nbformat_minor": 5
}
